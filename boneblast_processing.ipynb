{
 "cells": [
  {
   "cell_type": "code",
   "execution_count": 8,
   "metadata": {},
   "outputs": [],
   "source": [
    "import skimage.io as io\n",
    "from glob import glob\n",
    "import os\n",
    "import numpy as np\n",
    "import torch\n",
    "#os.environ[\"KMP_DUPLICATE_LIB_OK\"]  =  \"TRUE\"\n",
    "\n",
    "root_key='20230527EG'\n",
    "datapath='\\\\\\\\192.168.0.241\\\\Liaozhizhao\\\\HuanglabWork\\\\WorksNet\\\\BoneBlast\\\\'+root_key+'\\\\'\n",
    "rootpath='./boneblast/'+root_key+'/'\n",
    "\n",
    "if not os.path.exists(rootpath):\n",
    "    os.mkdir(rootpath)\n",
    "key='sample'\n",
    "\n"
   ]
  },
  {
   "cell_type": "code",
   "execution_count": 9,
   "metadata": {},
   "outputs": [],
   "source": [
    "def matrix_norm(input,method=0):\n",
    "    left=np.ones([670,670])/670\n",
    "    right=np.ones([480,480])/480\n",
    "    if method==0:\n",
    "        return left.dot(input).dot(right)\n",
    "    elif method==1:\n",
    "        return input.dot(right)\n",
    "    elif method==2:\n",
    "        return left.dot(input)\n",
    "    else:\n",
    "        return np.zeros([670,480])"
   ]
  },
  {
   "cell_type": "code",
   "execution_count": 3,
   "metadata": {},
   "outputs": [],
   "source": [
    "def aver_norm(input,dx,dy):\n",
    "    line=0\n",
    "    row=0\n",
    "    aver_matrix=[]\n",
    "    while line*dx<input.shape[0]:\n",
    "        row=0\n",
    "        temp_matrix=[]\n",
    "        while row*dy<input.shape[1]:\n",
    "            temp_matrix.append((sum(sum(input[int(line*dx):int((line+1)*dx),:]))/(dx*input.shape[1])+sum(sum(input[:,int(row*dy):int((row+1)*dy)]))/(dy*input.shape[0]))/2)\n",
    "            row+=1\n",
    "            #print('row',row)\n",
    "        line+=1\n",
    "        aver_matrix.append(temp_matrix)\n",
    "        #print('line',line)\n",
    "    aver_matrix=np.array(aver_matrix)\n",
    "    for i in range(aver_matrix.shape[0]):\n",
    "        for j in range(aver_matrix.shape[1]):\n",
    "            input[int(i*dx):int((i+1)*dx),int(j*dy):int((j+1)*dy)]-=aver_matrix[i,j]\n",
    "    \n",
    "    return input\n"
   ]
  },
  {
   "cell_type": "code",
   "execution_count": 10,
   "metadata": {},
   "outputs": [
    {
     "name": "stdout",
     "output_type": "stream",
     "text": [
      "./boneblast/20230527EG/sample1_1.tif\n"
     ]
    },
    {
     "name": "stderr",
     "output_type": "stream",
     "text": [
      "C:\\Users\\PC\\AppData\\Local\\Temp\\ipykernel_13636\\2658879081.py:24: UserWarning: ./boneblast/20230527EG/sample1_1.tif is a low contrast image\n",
      "  io.imsave(rootpath+keys+'_'+str(j+1)+'.tif',stack)\n"
     ]
    },
    {
     "name": "stdout",
     "output_type": "stream",
     "text": [
      "./boneblast/20230527EG/sample1_2.tif\n"
     ]
    },
    {
     "name": "stderr",
     "output_type": "stream",
     "text": [
      "C:\\Users\\PC\\AppData\\Local\\Temp\\ipykernel_13636\\2658879081.py:24: UserWarning: ./boneblast/20230527EG/sample1_2.tif is a low contrast image\n",
      "  io.imsave(rootpath+keys+'_'+str(j+1)+'.tif',stack)\n"
     ]
    },
    {
     "name": "stdout",
     "output_type": "stream",
     "text": [
      "./boneblast/20230527EG/sample2_1.tif\n"
     ]
    },
    {
     "name": "stderr",
     "output_type": "stream",
     "text": [
      "C:\\Users\\PC\\AppData\\Local\\Temp\\ipykernel_13636\\2658879081.py:24: UserWarning: ./boneblast/20230527EG/sample2_1.tif is a low contrast image\n",
      "  io.imsave(rootpath+keys+'_'+str(j+1)+'.tif',stack)\n"
     ]
    },
    {
     "name": "stdout",
     "output_type": "stream",
     "text": [
      "./boneblast/20230527EG/sample2_2.tif\n"
     ]
    },
    {
     "name": "stderr",
     "output_type": "stream",
     "text": [
      "C:\\Users\\PC\\AppData\\Local\\Temp\\ipykernel_13636\\2658879081.py:24: UserWarning: ./boneblast/20230527EG/sample2_2.tif is a low contrast image\n",
      "  io.imsave(rootpath+keys+'_'+str(j+1)+'.tif',stack)\n"
     ]
    },
    {
     "name": "stdout",
     "output_type": "stream",
     "text": [
      "./boneblast/20230527EG/sample3_1.tif\n"
     ]
    },
    {
     "name": "stderr",
     "output_type": "stream",
     "text": [
      "C:\\Users\\PC\\AppData\\Local\\Temp\\ipykernel_13636\\2658879081.py:24: UserWarning: ./boneblast/20230527EG/sample3_1.tif is a low contrast image\n",
      "  io.imsave(rootpath+keys+'_'+str(j+1)+'.tif',stack)\n"
     ]
    },
    {
     "name": "stdout",
     "output_type": "stream",
     "text": [
      "./boneblast/20230527EG/sample3_2.tif\n"
     ]
    },
    {
     "name": "stderr",
     "output_type": "stream",
     "text": [
      "C:\\Users\\PC\\AppData\\Local\\Temp\\ipykernel_13636\\2658879081.py:24: UserWarning: ./boneblast/20230527EG/sample3_2.tif is a low contrast image\n",
      "  io.imsave(rootpath+keys+'_'+str(j+1)+'.tif',stack)\n"
     ]
    },
    {
     "name": "stdout",
     "output_type": "stream",
     "text": [
      "./boneblast/20230527EG/sample4_1.tif\n"
     ]
    },
    {
     "name": "stderr",
     "output_type": "stream",
     "text": [
      "C:\\Users\\PC\\AppData\\Local\\Temp\\ipykernel_13636\\2658879081.py:24: UserWarning: ./boneblast/20230527EG/sample4_1.tif is a low contrast image\n",
      "  io.imsave(rootpath+keys+'_'+str(j+1)+'.tif',stack)\n"
     ]
    },
    {
     "name": "stdout",
     "output_type": "stream",
     "text": [
      "./boneblast/20230527EG/sample4_2.tif\n"
     ]
    },
    {
     "name": "stderr",
     "output_type": "stream",
     "text": [
      "C:\\Users\\PC\\AppData\\Local\\Temp\\ipykernel_13636\\2658879081.py:24: UserWarning: ./boneblast/20230527EG/sample4_2.tif is a low contrast image\n",
      "  io.imsave(rootpath+keys+'_'+str(j+1)+'.tif',stack)\n"
     ]
    },
    {
     "name": "stdout",
     "output_type": "stream",
     "text": [
      "./boneblast/20230527EG/sample5_1.tif\n"
     ]
    },
    {
     "name": "stderr",
     "output_type": "stream",
     "text": [
      "C:\\Users\\PC\\AppData\\Local\\Temp\\ipykernel_13636\\2658879081.py:24: UserWarning: ./boneblast/20230527EG/sample5_1.tif is a low contrast image\n",
      "  io.imsave(rootpath+keys+'_'+str(j+1)+'.tif',stack)\n"
     ]
    },
    {
     "name": "stdout",
     "output_type": "stream",
     "text": [
      "./boneblast/20230527EG/sample5_2.tif\n"
     ]
    },
    {
     "name": "stderr",
     "output_type": "stream",
     "text": [
      "C:\\Users\\PC\\AppData\\Local\\Temp\\ipykernel_13636\\2658879081.py:24: UserWarning: ./boneblast/20230527EG/sample5_2.tif is a low contrast image\n",
      "  io.imsave(rootpath+keys+'_'+str(j+1)+'.tif',stack)\n",
      "C:\\Users\\PC\\AppData\\Local\\Temp\\ipykernel_13636\\2658879081.py:25: UserWarning: ./boneblast/20230527EG/origin_sample5_2.tif is a low contrast image\n",
      "  io.imsave(rootpath+'origin_'+keys+'_'+str(j+1)+'.tif',origin)\n"
     ]
    },
    {
     "name": "stdout",
     "output_type": "stream",
     "text": [
      "./boneblast/20230527EG/sample6_1.tif\n"
     ]
    },
    {
     "name": "stderr",
     "output_type": "stream",
     "text": [
      "C:\\Users\\PC\\AppData\\Local\\Temp\\ipykernel_13636\\2658879081.py:24: UserWarning: ./boneblast/20230527EG/sample6_1.tif is a low contrast image\n",
      "  io.imsave(rootpath+keys+'_'+str(j+1)+'.tif',stack)\n"
     ]
    },
    {
     "name": "stdout",
     "output_type": "stream",
     "text": [
      "./boneblast/20230527EG/sample6_2.tif\n"
     ]
    },
    {
     "name": "stderr",
     "output_type": "stream",
     "text": [
      "C:\\Users\\PC\\AppData\\Local\\Temp\\ipykernel_13636\\2658879081.py:24: UserWarning: ./boneblast/20230527EG/sample6_2.tif is a low contrast image\n",
      "  io.imsave(rootpath+keys+'_'+str(j+1)+'.tif',stack)\n",
      "C:\\Users\\PC\\AppData\\Local\\Temp\\ipykernel_13636\\2658879081.py:25: UserWarning: ./boneblast/20230527EG/origin_sample6_2.tif is a low contrast image\n",
      "  io.imsave(rootpath+'origin_'+keys+'_'+str(j+1)+'.tif',origin)\n"
     ]
    },
    {
     "name": "stdout",
     "output_type": "stream",
     "text": [
      "./boneblast/20230527EG/sample7_1.tif\n"
     ]
    },
    {
     "name": "stderr",
     "output_type": "stream",
     "text": [
      "C:\\Users\\PC\\AppData\\Local\\Temp\\ipykernel_13636\\2658879081.py:24: UserWarning: ./boneblast/20230527EG/sample7_1.tif is a low contrast image\n",
      "  io.imsave(rootpath+keys+'_'+str(j+1)+'.tif',stack)\n"
     ]
    },
    {
     "name": "stdout",
     "output_type": "stream",
     "text": [
      "./boneblast/20230527EG/sample7_2.tif\n"
     ]
    },
    {
     "name": "stderr",
     "output_type": "stream",
     "text": [
      "C:\\Users\\PC\\AppData\\Local\\Temp\\ipykernel_13636\\2658879081.py:24: UserWarning: ./boneblast/20230527EG/sample7_2.tif is a low contrast image\n",
      "  io.imsave(rootpath+keys+'_'+str(j+1)+'.tif',stack)\n",
      "C:\\Users\\PC\\AppData\\Local\\Temp\\ipykernel_13636\\2658879081.py:25: UserWarning: ./boneblast/20230527EG/origin_sample7_2.tif is a low contrast image\n",
      "  io.imsave(rootpath+'origin_'+keys+'_'+str(j+1)+'.tif',origin)\n"
     ]
    },
    {
     "name": "stdout",
     "output_type": "stream",
     "text": [
      "./boneblast/20230527EG/sample8_1.tif\n"
     ]
    },
    {
     "name": "stderr",
     "output_type": "stream",
     "text": [
      "C:\\Users\\PC\\AppData\\Local\\Temp\\ipykernel_13636\\2658879081.py:24: UserWarning: ./boneblast/20230527EG/sample8_1.tif is a low contrast image\n",
      "  io.imsave(rootpath+keys+'_'+str(j+1)+'.tif',stack)\n"
     ]
    },
    {
     "name": "stdout",
     "output_type": "stream",
     "text": [
      "./boneblast/20230527EG/sample8_2.tif\n"
     ]
    },
    {
     "name": "stderr",
     "output_type": "stream",
     "text": [
      "C:\\Users\\PC\\AppData\\Local\\Temp\\ipykernel_13636\\2658879081.py:24: UserWarning: ./boneblast/20230527EG/sample8_2.tif is a low contrast image\n",
      "  io.imsave(rootpath+keys+'_'+str(j+1)+'.tif',stack)\n",
      "C:\\Users\\PC\\AppData\\Local\\Temp\\ipykernel_13636\\2658879081.py:25: UserWarning: ./boneblast/20230527EG/origin_sample8_2.tif is a low contrast image\n",
      "  io.imsave(rootpath+'origin_'+keys+'_'+str(j+1)+'.tif',origin)\n"
     ]
    },
    {
     "name": "stdout",
     "output_type": "stream",
     "text": [
      "./boneblast/20230527EG/sample9_1.tif\n"
     ]
    },
    {
     "name": "stderr",
     "output_type": "stream",
     "text": [
      "C:\\Users\\PC\\AppData\\Local\\Temp\\ipykernel_13636\\2658879081.py:24: UserWarning: ./boneblast/20230527EG/sample9_1.tif is a low contrast image\n",
      "  io.imsave(rootpath+keys+'_'+str(j+1)+'.tif',stack)\n"
     ]
    },
    {
     "name": "stdout",
     "output_type": "stream",
     "text": [
      "./boneblast/20230527EG/sample9_2.tif\n"
     ]
    },
    {
     "name": "stderr",
     "output_type": "stream",
     "text": [
      "C:\\Users\\PC\\AppData\\Local\\Temp\\ipykernel_13636\\2658879081.py:24: UserWarning: ./boneblast/20230527EG/sample9_2.tif is a low contrast image\n",
      "  io.imsave(rootpath+keys+'_'+str(j+1)+'.tif',stack)\n",
      "C:\\Users\\PC\\AppData\\Local\\Temp\\ipykernel_13636\\2658879081.py:25: UserWarning: ./boneblast/20230527EG/origin_sample9_2.tif is a low contrast image\n",
      "  io.imsave(rootpath+'origin_'+keys+'_'+str(j+1)+'.tif',origin)\n"
     ]
    },
    {
     "name": "stdout",
     "output_type": "stream",
     "text": [
      "./boneblast/20230527EG/sample10_1.tif\n"
     ]
    },
    {
     "name": "stderr",
     "output_type": "stream",
     "text": [
      "C:\\Users\\PC\\AppData\\Local\\Temp\\ipykernel_13636\\2658879081.py:24: UserWarning: ./boneblast/20230527EG/sample10_1.tif is a low contrast image\n",
      "  io.imsave(rootpath+keys+'_'+str(j+1)+'.tif',stack)\n"
     ]
    },
    {
     "name": "stdout",
     "output_type": "stream",
     "text": [
      "./boneblast/20230527EG/sample10_2.tif\n"
     ]
    },
    {
     "name": "stderr",
     "output_type": "stream",
     "text": [
      "C:\\Users\\PC\\AppData\\Local\\Temp\\ipykernel_13636\\2658879081.py:24: UserWarning: ./boneblast/20230527EG/sample10_2.tif is a low contrast image\n",
      "  io.imsave(rootpath+keys+'_'+str(j+1)+'.tif',stack)\n",
      "C:\\Users\\PC\\AppData\\Local\\Temp\\ipykernel_13636\\2658879081.py:25: UserWarning: ./boneblast/20230527EG/origin_sample10_2.tif is a low contrast image\n",
      "  io.imsave(rootpath+'origin_'+keys+'_'+str(j+1)+'.tif',origin)\n"
     ]
    },
    {
     "name": "stdout",
     "output_type": "stream",
     "text": [
      "./boneblast/20230527EG/sample11_1.tif\n"
     ]
    },
    {
     "name": "stderr",
     "output_type": "stream",
     "text": [
      "C:\\Users\\PC\\AppData\\Local\\Temp\\ipykernel_13636\\2658879081.py:24: UserWarning: ./boneblast/20230527EG/sample11_1.tif is a low contrast image\n",
      "  io.imsave(rootpath+keys+'_'+str(j+1)+'.tif',stack)\n"
     ]
    },
    {
     "name": "stdout",
     "output_type": "stream",
     "text": [
      "./boneblast/20230527EG/sample11_2.tif\n"
     ]
    },
    {
     "name": "stderr",
     "output_type": "stream",
     "text": [
      "C:\\Users\\PC\\AppData\\Local\\Temp\\ipykernel_13636\\2658879081.py:24: UserWarning: ./boneblast/20230527EG/sample11_2.tif is a low contrast image\n",
      "  io.imsave(rootpath+keys+'_'+str(j+1)+'.tif',stack)\n",
      "C:\\Users\\PC\\AppData\\Local\\Temp\\ipykernel_13636\\2658879081.py:25: UserWarning: ./boneblast/20230527EG/origin_sample11_2.tif is a low contrast image\n",
      "  io.imsave(rootpath+'origin_'+keys+'_'+str(j+1)+'.tif',origin)\n"
     ]
    },
    {
     "name": "stdout",
     "output_type": "stream",
     "text": [
      "./boneblast/20230527EG/sample12_1.tif\n"
     ]
    },
    {
     "name": "stderr",
     "output_type": "stream",
     "text": [
      "C:\\Users\\PC\\AppData\\Local\\Temp\\ipykernel_13636\\2658879081.py:24: UserWarning: ./boneblast/20230527EG/sample12_1.tif is a low contrast image\n",
      "  io.imsave(rootpath+keys+'_'+str(j+1)+'.tif',stack)\n"
     ]
    },
    {
     "name": "stdout",
     "output_type": "stream",
     "text": [
      "./boneblast/20230527EG/sample12_2.tif\n"
     ]
    },
    {
     "name": "stderr",
     "output_type": "stream",
     "text": [
      "C:\\Users\\PC\\AppData\\Local\\Temp\\ipykernel_13636\\2658879081.py:24: UserWarning: ./boneblast/20230527EG/sample12_2.tif is a low contrast image\n",
      "  io.imsave(rootpath+keys+'_'+str(j+1)+'.tif',stack)\n",
      "C:\\Users\\PC\\AppData\\Local\\Temp\\ipykernel_13636\\2658879081.py:25: UserWarning: ./boneblast/20230527EG/origin_sample12_2.tif is a low contrast image\n",
      "  io.imsave(rootpath+'origin_'+keys+'_'+str(j+1)+'.tif',origin)\n"
     ]
    },
    {
     "ename": "IndexError",
     "evalue": "list index out of range",
     "output_type": "error",
     "traceback": [
      "\u001b[1;31m---------------------------------------------------------------------------\u001b[0m",
      "\u001b[1;31mIndexError\u001b[0m                                Traceback (most recent call last)",
      "Cell \u001b[1;32mIn[10], line 7\u001b[0m\n\u001b[0;32m      5\u001b[0m \u001b[39mfor\u001b[39;00m j \u001b[39min\u001b[39;00m \u001b[39mrange\u001b[39m(\u001b[39m2\u001b[39m):\n\u001b[0;32m      6\u001b[0m     imgs\u001b[39m=\u001b[39mglob(os\u001b[39m.\u001b[39mpath\u001b[39m.\u001b[39mjoin(data, \u001b[39mstr\u001b[39m(j\u001b[39m+\u001b[39m\u001b[39m1\u001b[39m)\u001b[39m+\u001b[39m\u001b[39m'\u001b[39m\u001b[39m_*.tiff\u001b[39m\u001b[39m'\u001b[39m))\n\u001b[1;32m----> 7\u001b[0m     first\u001b[39m=\u001b[39mio\u001b[39m.\u001b[39mimread(imgs[\u001b[39m0\u001b[39;49m])\n\u001b[0;32m      8\u001b[0m     stack\u001b[39m=\u001b[39mnp\u001b[39m.\u001b[39mzeros([\u001b[39mlen\u001b[39m(imgs),first\u001b[39m.\u001b[39mshape[\u001b[39m0\u001b[39m],first\u001b[39m.\u001b[39mshape[\u001b[39m1\u001b[39m]])\n\u001b[0;32m      9\u001b[0m     origin\u001b[39m=\u001b[39mnp\u001b[39m.\u001b[39mzeros([\u001b[39mlen\u001b[39m(imgs),first\u001b[39m.\u001b[39mshape[\u001b[39m0\u001b[39m],first\u001b[39m.\u001b[39mshape[\u001b[39m1\u001b[39m]])\n",
      "\u001b[1;31mIndexError\u001b[0m: list index out of range"
     ]
    }
   ],
   "source": [
    "#rootpath='./boneblast/'+root_key+'adj/'\n",
    "for i in range(16):\n",
    "    keys=key+str(i+1)\n",
    "    data=datapath+keys+'\\\\'\n",
    "    for j in range(2):\n",
    "        imgs=glob(os.path.join(data, str(j+1)+'_*.tiff'))\n",
    "        first=io.imread(imgs[0])\n",
    "        stack=np.zeros([len(imgs),first.shape[0],first.shape[1]])\n",
    "        origin=np.zeros([len(imgs),first.shape[0],first.shape[1]])\n",
    "        z=0\n",
    "        for img in imgs:\n",
    "            #print(img)\n",
    "            img_temp=io.imread(img)\n",
    "            img_temp=img_temp.astype(np.float32)\n",
    "            #img_temp[img_temp>12000]=0\n",
    "            stack[z,:,:]=img_temp-matrix_norm(img_temp,1)\n",
    "            origin[z,:,:]=img_temp\n",
    "            z+=1\n",
    "\n",
    "        stack[stack<0]=0\n",
    "        stack=stack.astype(np.uint16)\n",
    "        origin=origin.astype(np.uint16)\n",
    "        print(rootpath+keys+'_'+str(j+1)+'.tif')\n",
    "        io.imsave(rootpath+keys+'_'+str(j+1)+'.tif',stack)\n",
    "        io.imsave(rootpath+'origin_'+keys+'_'+str(j+1)+'.tif',origin)"
   ]
  },
  {
   "cell_type": "code",
   "execution_count": null,
   "metadata": {},
   "outputs": [],
   "source": [
    "#don't run this\n",
    "#create stack and normalize\n",
    "dx=3\n",
    "dy=480\n",
    "for i in range(16):\n",
    "    keys=key+str(i+1)\n",
    "    data=datapath+keys+'\\\\'\n",
    "    for j in range(2):\n",
    "        imgs=glob(os.path.join(data, str(j+1)+'_*.tiff'))\n",
    "        first=io.imread(imgs[0])\n",
    "        stack=np.zeros([len(imgs),first.shape[0],first.shape[1]])\n",
    "        total=dx*stack.shape[2]\n",
    "        z=0\n",
    "        for img in imgs:\n",
    "            #print(img)\n",
    "            img_temp=io.imread(img)\n",
    "            img_temp=img_temp.astype(np.float32)\n",
    "            stack[z,:,:]=aver_norm(img_temp,dx,dy)\n",
    "            z+=1\n",
    "\n",
    "        stack[stack<0]=0\n",
    "        stack=stack.astype(np.uint16)\n",
    "        print(rootpath+keys+'_'+str(j+1)+'.tif')\n",
    "        io.imsave(rootpath+keys+'_'+str(j+1)+'.tif',stack)"
   ]
  },
  {
   "cell_type": "code",
   "execution_count": 9,
   "metadata": {},
   "outputs": [],
   "source": [
    "def normlize(img):\n",
    "    mi=img.min()\n",
    "    ma=img.max()\n",
    "    return (img-mi)/(ma-mi)"
   ]
  },
  {
   "cell_type": "code",
   "execution_count": 13,
   "metadata": {},
   "outputs": [],
   "source": [
    "for i in range(16):\n",
    "    image=io.imread('./boneblast/20230523/sample'+str(i+1)+'_1.tif')\n",
    "    image=normlize(image)\n",
    "    image=image*65535\n",
    "    image=image.astype(np.uint16)\n",
    "    io.imsave('./boneblast/20230523/res/sample'+str(i+1)+'_norm.tif',image)"
   ]
  },
  {
   "cell_type": "code",
   "execution_count": 8,
   "metadata": {},
   "outputs": [
    {
     "name": "stdout",
     "output_type": "stream",
     "text": [
      "<class 'numpy.uint16'>\n",
      "353\n"
     ]
    }
   ],
   "source": [
    "image=io.imread('./boneblast/20230523/sample5_1.tif')\n",
    "print(type(image[0,0,0]))\n",
    "print(image.min())"
   ]
  },
  {
   "cell_type": "code",
   "execution_count": null,
   "metadata": {},
   "outputs": [],
   "source": [
    "root_adj='./boneblast/20230523adj/'\n",
    "if not os.path.exists(root_adj):\n",
    "    os.mkdir(root_adj)\n",
    "\n",
    "paths=glob(rootpath+'*.tif')\n",
    "threshold=1500\n",
    "\n",
    "for path in paths:\n",
    "    print(path)\n",
    "    img=io.imread(path)\n",
    "    img[img<threshold]=0\n",
    "    save=root_adj+path.split('\\\\')[-1]\n",
    "    print(save)\n",
    "    io.imsave(save,img)"
   ]
  },
  {
   "cell_type": "code",
   "execution_count": 19,
   "metadata": {},
   "outputs": [
    {
     "name": "stdout",
     "output_type": "stream",
     "text": [
      "./boneblast/20230523\\sample10_1.tif\n",
      "./boneblast/20230523adj2/sample10_1.tif\n",
      "./boneblast/20230523\\sample10_2.tif\n",
      "./boneblast/20230523adj2/sample10_2.tif\n"
     ]
    },
    {
     "name": "stderr",
     "output_type": "stream",
     "text": [
      "C:\\Users\\wc200\\AppData\\Local\\Temp\\ipykernel_3664\\3103095145.py:27: UserWarning: ./boneblast/20230523adj2/sample10_2.tif is a low contrast image\n",
      "  io.imsave(save,img)\n"
     ]
    },
    {
     "name": "stdout",
     "output_type": "stream",
     "text": [
      "./boneblast/20230523\\sample11_1.tif\n",
      "./boneblast/20230523adj2/sample11_1.tif\n",
      "./boneblast/20230523\\sample11_2.tif\n",
      "./boneblast/20230523adj2/sample11_2.tif\n"
     ]
    },
    {
     "name": "stderr",
     "output_type": "stream",
     "text": [
      "C:\\Users\\wc200\\AppData\\Local\\Temp\\ipykernel_3664\\3103095145.py:27: UserWarning: ./boneblast/20230523adj2/sample11_2.tif is a low contrast image\n",
      "  io.imsave(save,img)\n"
     ]
    },
    {
     "name": "stdout",
     "output_type": "stream",
     "text": [
      "./boneblast/20230523\\sample12_1.tif\n",
      "./boneblast/20230523adj2/sample12_1.tif\n",
      "./boneblast/20230523\\sample12_2.tif\n",
      "./boneblast/20230523adj2/sample12_2.tif\n"
     ]
    },
    {
     "name": "stderr",
     "output_type": "stream",
     "text": [
      "C:\\Users\\wc200\\AppData\\Local\\Temp\\ipykernel_3664\\3103095145.py:27: UserWarning: ./boneblast/20230523adj2/sample12_2.tif is a low contrast image\n",
      "  io.imsave(save,img)\n"
     ]
    },
    {
     "name": "stdout",
     "output_type": "stream",
     "text": [
      "./boneblast/20230523\\sample13_1.tif\n",
      "./boneblast/20230523adj2/sample13_1.tif\n"
     ]
    },
    {
     "name": "stderr",
     "output_type": "stream",
     "text": [
      "C:\\Users\\wc200\\AppData\\Local\\Temp\\ipykernel_3664\\3103095145.py:27: UserWarning: ./boneblast/20230523adj2/sample13_1.tif is a low contrast image\n",
      "  io.imsave(save,img)\n"
     ]
    },
    {
     "name": "stdout",
     "output_type": "stream",
     "text": [
      "./boneblast/20230523\\sample13_2.tif\n",
      "./boneblast/20230523adj2/sample13_2.tif\n"
     ]
    },
    {
     "name": "stderr",
     "output_type": "stream",
     "text": [
      "C:\\Users\\wc200\\AppData\\Local\\Temp\\ipykernel_3664\\3103095145.py:27: UserWarning: ./boneblast/20230523adj2/sample13_2.tif is a low contrast image\n",
      "  io.imsave(save,img)\n"
     ]
    },
    {
     "name": "stdout",
     "output_type": "stream",
     "text": [
      "./boneblast/20230523\\sample14_1.tif\n",
      "./boneblast/20230523adj2/sample14_1.tif\n"
     ]
    },
    {
     "name": "stderr",
     "output_type": "stream",
     "text": [
      "C:\\Users\\wc200\\AppData\\Local\\Temp\\ipykernel_3664\\3103095145.py:27: UserWarning: ./boneblast/20230523adj2/sample14_1.tif is a low contrast image\n",
      "  io.imsave(save,img)\n"
     ]
    },
    {
     "name": "stdout",
     "output_type": "stream",
     "text": [
      "./boneblast/20230523\\sample14_2.tif\n",
      "./boneblast/20230523adj2/sample14_2.tif\n"
     ]
    },
    {
     "name": "stderr",
     "output_type": "stream",
     "text": [
      "C:\\Users\\wc200\\AppData\\Local\\Temp\\ipykernel_3664\\3103095145.py:27: UserWarning: ./boneblast/20230523adj2/sample14_2.tif is a low contrast image\n",
      "  io.imsave(save,img)\n"
     ]
    },
    {
     "name": "stdout",
     "output_type": "stream",
     "text": [
      "./boneblast/20230523\\sample15_1.tif\n",
      "./boneblast/20230523adj2/sample15_1.tif\n"
     ]
    },
    {
     "name": "stderr",
     "output_type": "stream",
     "text": [
      "C:\\Users\\wc200\\AppData\\Local\\Temp\\ipykernel_3664\\3103095145.py:27: UserWarning: ./boneblast/20230523adj2/sample15_1.tif is a low contrast image\n",
      "  io.imsave(save,img)\n"
     ]
    },
    {
     "name": "stdout",
     "output_type": "stream",
     "text": [
      "./boneblast/20230523\\sample15_2.tif\n",
      "./boneblast/20230523adj2/sample15_2.tif\n"
     ]
    },
    {
     "name": "stderr",
     "output_type": "stream",
     "text": [
      "C:\\Users\\wc200\\AppData\\Local\\Temp\\ipykernel_3664\\3103095145.py:27: UserWarning: ./boneblast/20230523adj2/sample15_2.tif is a low contrast image\n",
      "  io.imsave(save,img)\n"
     ]
    },
    {
     "name": "stdout",
     "output_type": "stream",
     "text": [
      "./boneblast/20230523\\sample16_1.tif\n",
      "./boneblast/20230523adj2/sample16_1.tif\n"
     ]
    },
    {
     "name": "stderr",
     "output_type": "stream",
     "text": [
      "C:\\Users\\wc200\\AppData\\Local\\Temp\\ipykernel_3664\\3103095145.py:27: UserWarning: ./boneblast/20230523adj2/sample16_1.tif is a low contrast image\n",
      "  io.imsave(save,img)\n"
     ]
    },
    {
     "name": "stdout",
     "output_type": "stream",
     "text": [
      "./boneblast/20230523\\sample16_2.tif\n",
      "./boneblast/20230523adj2/sample16_2.tif\n"
     ]
    },
    {
     "name": "stderr",
     "output_type": "stream",
     "text": [
      "C:\\Users\\wc200\\AppData\\Local\\Temp\\ipykernel_3664\\3103095145.py:27: UserWarning: ./boneblast/20230523adj2/sample16_2.tif is a low contrast image\n",
      "  io.imsave(save,img)\n"
     ]
    },
    {
     "name": "stdout",
     "output_type": "stream",
     "text": [
      "./boneblast/20230523\\sample1_1.tif\n",
      "./boneblast/20230523adj2/sample1_1.tif\n",
      "./boneblast/20230523\\sample1_2.tif\n",
      "./boneblast/20230523adj2/sample1_2.tif\n"
     ]
    },
    {
     "name": "stderr",
     "output_type": "stream",
     "text": [
      "C:\\Users\\wc200\\AppData\\Local\\Temp\\ipykernel_3664\\3103095145.py:27: UserWarning: ./boneblast/20230523adj2/sample1_2.tif is a low contrast image\n",
      "  io.imsave(save,img)\n"
     ]
    },
    {
     "name": "stdout",
     "output_type": "stream",
     "text": [
      "./boneblast/20230523\\sample2_1.tif\n",
      "./boneblast/20230523adj2/sample2_1.tif\n",
      "./boneblast/20230523\\sample2_2.tif\n",
      "./boneblast/20230523adj2/sample2_2.tif\n"
     ]
    },
    {
     "name": "stderr",
     "output_type": "stream",
     "text": [
      "C:\\Users\\wc200\\AppData\\Local\\Temp\\ipykernel_3664\\3103095145.py:27: UserWarning: ./boneblast/20230523adj2/sample2_2.tif is a low contrast image\n",
      "  io.imsave(save,img)\n"
     ]
    },
    {
     "name": "stdout",
     "output_type": "stream",
     "text": [
      "./boneblast/20230523\\sample3_1.tif\n",
      "./boneblast/20230523adj2/sample3_1.tif\n",
      "./boneblast/20230523\\sample3_2.tif\n",
      "./boneblast/20230523adj2/sample3_2.tif\n"
     ]
    },
    {
     "name": "stderr",
     "output_type": "stream",
     "text": [
      "C:\\Users\\wc200\\AppData\\Local\\Temp\\ipykernel_3664\\3103095145.py:27: UserWarning: ./boneblast/20230523adj2/sample3_2.tif is a low contrast image\n",
      "  io.imsave(save,img)\n"
     ]
    },
    {
     "name": "stdout",
     "output_type": "stream",
     "text": [
      "./boneblast/20230523\\sample4_1.tif\n",
      "./boneblast/20230523adj2/sample4_1.tif\n",
      "./boneblast/20230523\\sample4_2.tif\n",
      "./boneblast/20230523adj2/sample4_2.tif\n"
     ]
    },
    {
     "name": "stderr",
     "output_type": "stream",
     "text": [
      "C:\\Users\\wc200\\AppData\\Local\\Temp\\ipykernel_3664\\3103095145.py:27: UserWarning: ./boneblast/20230523adj2/sample4_2.tif is a low contrast image\n",
      "  io.imsave(save,img)\n"
     ]
    },
    {
     "name": "stdout",
     "output_type": "stream",
     "text": [
      "./boneblast/20230523\\sample5_1.tif\n",
      "./boneblast/20230523adj2/sample5_1.tif\n",
      "./boneblast/20230523\\sample5_2.tif\n",
      "./boneblast/20230523adj2/sample5_2.tif\n"
     ]
    },
    {
     "name": "stderr",
     "output_type": "stream",
     "text": [
      "C:\\Users\\wc200\\AppData\\Local\\Temp\\ipykernel_3664\\3103095145.py:27: UserWarning: ./boneblast/20230523adj2/sample5_2.tif is a low contrast image\n",
      "  io.imsave(save,img)\n"
     ]
    },
    {
     "name": "stdout",
     "output_type": "stream",
     "text": [
      "./boneblast/20230523\\sample6_1.tif\n",
      "./boneblast/20230523adj2/sample6_1.tif\n"
     ]
    },
    {
     "name": "stderr",
     "output_type": "stream",
     "text": [
      "C:\\Users\\wc200\\AppData\\Local\\Temp\\ipykernel_3664\\3103095145.py:27: UserWarning: ./boneblast/20230523adj2/sample6_1.tif is a low contrast image\n",
      "  io.imsave(save,img)\n"
     ]
    },
    {
     "name": "stdout",
     "output_type": "stream",
     "text": [
      "./boneblast/20230523\\sample6_2.tif\n",
      "./boneblast/20230523adj2/sample6_2.tif\n"
     ]
    },
    {
     "name": "stderr",
     "output_type": "stream",
     "text": [
      "C:\\Users\\wc200\\AppData\\Local\\Temp\\ipykernel_3664\\3103095145.py:27: UserWarning: ./boneblast/20230523adj2/sample6_2.tif is a low contrast image\n",
      "  io.imsave(save,img)\n"
     ]
    },
    {
     "name": "stdout",
     "output_type": "stream",
     "text": [
      "./boneblast/20230523\\sample7_1.tif\n",
      "./boneblast/20230523adj2/sample7_1.tif\n",
      "./boneblast/20230523\\sample7_2.tif\n",
      "./boneblast/20230523adj2/sample7_2.tif\n"
     ]
    },
    {
     "name": "stderr",
     "output_type": "stream",
     "text": [
      "C:\\Users\\wc200\\AppData\\Local\\Temp\\ipykernel_3664\\3103095145.py:27: UserWarning: ./boneblast/20230523adj2/sample7_2.tif is a low contrast image\n",
      "  io.imsave(save,img)\n"
     ]
    },
    {
     "name": "stdout",
     "output_type": "stream",
     "text": [
      "./boneblast/20230523\\sample8_1.tif\n",
      "./boneblast/20230523adj2/sample8_1.tif\n"
     ]
    },
    {
     "name": "stderr",
     "output_type": "stream",
     "text": [
      "C:\\Users\\wc200\\AppData\\Local\\Temp\\ipykernel_3664\\3103095145.py:27: UserWarning: ./boneblast/20230523adj2/sample8_1.tif is a low contrast image\n",
      "  io.imsave(save,img)\n"
     ]
    },
    {
     "name": "stdout",
     "output_type": "stream",
     "text": [
      "./boneblast/20230523\\sample8_2.tif\n",
      "./boneblast/20230523adj2/sample8_2.tif\n"
     ]
    },
    {
     "name": "stderr",
     "output_type": "stream",
     "text": [
      "C:\\Users\\wc200\\AppData\\Local\\Temp\\ipykernel_3664\\3103095145.py:27: UserWarning: ./boneblast/20230523adj2/sample8_2.tif is a low contrast image\n",
      "  io.imsave(save,img)\n"
     ]
    },
    {
     "name": "stdout",
     "output_type": "stream",
     "text": [
      "./boneblast/20230523\\sample9_1.tif\n",
      "./boneblast/20230523adj2/sample9_1.tif\n",
      "./boneblast/20230523\\sample9_2.tif\n",
      "./boneblast/20230523adj2/sample9_2.tif\n"
     ]
    },
    {
     "name": "stderr",
     "output_type": "stream",
     "text": [
      "C:\\Users\\wc200\\AppData\\Local\\Temp\\ipykernel_3664\\3103095145.py:27: UserWarning: ./boneblast/20230523adj2/sample9_2.tif is a low contrast image\n",
      "  io.imsave(save,img)\n"
     ]
    }
   ],
   "source": [
    "root_adj='./boneblast/20230523adj2/'\n",
    "paths=glob(rootpath+'*.tif')\n",
    "if not os.path.exists(root_adj):\n",
    "    os.mkdir(root_adj)\n",
    "\n",
    "\n",
    "for path in paths:\n",
    "    print(path)\n",
    "    img=io.imread(path)\n",
    "    img=img.astype(np.float32)\n",
    "    dx=3\n",
    "    total=dx*img.shape[2]\n",
    "    i=0\n",
    "    while True:\n",
    "        for j in range(img.shape[0]):\n",
    "            aver=sum(sum(img[j,int(i*dx):int((i+1)*dx),:]))/total\n",
    "            img[j,int(i*dx):int((i+1)*dx),:]=img[j,int(i*dx):int((i+1)*dx),:]-aver\n",
    "        i=i+1\n",
    "        if i*dx>img.shape[1]:\n",
    "            break\n",
    "    #for j in range(img.shape[0]):\n",
    "        #img[j]=normlize(img[j])*65535\n",
    "    img[img<0]=0\n",
    "    save=root_adj+path.split('\\\\')[-1]\n",
    "    print(save)\n",
    "    img=img.astype(np.uint16)\n",
    "    io.imsave(save,img)"
   ]
  },
  {
   "cell_type": "code",
   "execution_count": null,
   "metadata": {},
   "outputs": [],
   "source": [
    "root_adj='./train_image16_adj/'\n",
    "root='./train_image16_final/'\n",
    "paths=glob(root+'*.tif')\n",
    "if not os.path.exists(root_adj):\n",
    "    os.mkdir(root_adj)\n",
    "\n",
    "\n",
    "for path in paths:\n",
    "    print(path)\n",
    "    img=io.imread(path)\n",
    "    img=img.astype(np.float32)\n",
    "    dx=6\n",
    "    total=dx*img.shape[1]\n",
    "    i=0\n",
    "    while True:\n",
    "        aver=sum(sum(img[int(i*dx):int((i+1)*dx),:]))/total\n",
    "        img[int(i*dx):int((i+1)*dx),:]=img[int(i*dx):int((i+1)*dx),:]-aver\n",
    "        i=i+1\n",
    "        if i*dx>img.shape[0]:\n",
    "            break\n",
    "    #for j in range(img.shape[0]):\n",
    "        #img[j]=normlize(img[j])*65535\n",
    "    img[img<0]=0\n",
    "    save=root_adj+path.split('\\\\')[-1]\n",
    "    print(save)\n",
    "    img=img.astype(np.uint16)\n",
    "    io.imsave(save,img)"
   ]
  }
 ],
 "metadata": {
  "kernelspec": {
   "display_name": "unet39",
   "language": "python",
   "name": "python3"
  },
  "language_info": {
   "codemirror_mode": {
    "name": "ipython",
    "version": 3
   },
   "file_extension": ".py",
   "mimetype": "text/x-python",
   "name": "python",
   "nbconvert_exporter": "python",
   "pygments_lexer": "ipython3",
   "version": "3.9.16"
  },
  "orig_nbformat": 4
 },
 "nbformat": 4,
 "nbformat_minor": 2
}
