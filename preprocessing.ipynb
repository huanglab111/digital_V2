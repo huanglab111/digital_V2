{
 "cells": [
  {
   "cell_type": "code",
   "execution_count": 1,
   "metadata": {},
   "outputs": [],
   "source": [
    "from skimage import io\n",
    "import os\n",
    "import glob\n",
    "import numpy as np\n",
    "import torch\n",
    "import torch.nn as nn\n",
    "import pandas as pd"
   ]
  },
  {
   "cell_type": "code",
   "execution_count": 4,
   "metadata": {},
   "outputs": [
    {
     "name": "stdout",
     "output_type": "stream",
     "text": [
      "(2048, 2048, 4)\n",
      "(2048, 2048, 4)\n"
     ]
    },
    {
     "name": "stderr",
     "output_type": "stream",
     "text": [
      "C:\\Users\\wc200\\AppData\\Local\\Temp\\ipykernel_15296\\3193159444.py:14: UserWarning: ./nuclear_label\\0.tif is a low contrast image\n",
      "  io.imsave(save.replace('_pre',''),img[:,:,1])\n",
      "C:\\Users\\wc200\\AppData\\Local\\Temp\\ipykernel_15296\\3193159444.py:14: UserWarning: ./nuclear_label\\1.tif is a low contrast image\n",
      "  io.imsave(save.replace('_pre',''),img[:,:,1])\n"
     ]
    },
    {
     "name": "stdout",
     "output_type": "stream",
     "text": [
      "(2048, 2048, 4)\n",
      "(2048, 2048, 4)\n",
      "(2048, 2048, 4)\n",
      "(2048, 2048, 4)\n",
      "(2048, 2048, 4)\n",
      "(2048, 2048, 4)\n",
      "(2048, 2048, 4)\n",
      "(2048, 2048, 4)\n",
      "(2048, 2048, 4)\n",
      "(2048, 2048, 4)\n",
      "(2048, 2048, 4)\n",
      "(2048, 2048, 4)\n",
      "(2048, 2048, 4)\n",
      "(2048, 2048, 4)\n",
      "(2048, 2048, 4)\n",
      "(2048, 2048, 4)\n",
      "(2048, 2048, 4)\n",
      "(2048, 2048, 4)\n",
      "(2048, 2048, 4)\n",
      "(2048, 2048, 4)\n",
      "(2048, 2048, 4)\n",
      "(2048, 2048, 4)\n"
     ]
    }
   ],
   "source": [
    "data_path='./nuclear_label_pre/'\n",
    "save_root='./nuclear_label/'\n",
    "if not os.path.exists(save_root):\n",
    "    os.makedirs(save_root)\n",
    "\n",
    "image_paths=glob.glob(os.path.join(data_path, '*.png'))\n",
    "\n",
    "for image_path in image_paths:\n",
    "    img=io.imread(image_path)\n",
    "    print(img.shape)\n",
    "    img=img.astype(np.uint16)\n",
    "    img[img>0]=65535\n",
    "    save=image_path.replace('png','tif')\n",
    "    io.imsave(save.replace('_pre',''),img[:,:,1])"
   ]
  }
 ],
 "metadata": {
  "kernelspec": {
   "display_name": "unet39",
   "language": "python",
   "name": "python3"
  },
  "language_info": {
   "codemirror_mode": {
    "name": "ipython",
    "version": 3
   },
   "file_extension": ".py",
   "mimetype": "text/x-python",
   "name": "python",
   "nbconvert_exporter": "python",
   "pygments_lexer": "ipython3",
   "version": "3.9.0"
  },
  "orig_nbformat": 4
 },
 "nbformat": 4,
 "nbformat_minor": 2
}
