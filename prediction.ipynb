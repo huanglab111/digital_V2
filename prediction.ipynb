{
 "cells": [
  {
   "cell_type": "code",
   "execution_count": 1,
   "metadata": {},
   "outputs": [],
   "source": [
    "import glob\n",
    "import numpy as np\n",
    "import torch\n",
    "import os\n",
    "import cv2\n",
    "from unet import UNet\n",
    "import skimage.io as io\n",
    "import skimage.morphology as mp\n",
    "import skimage.measure as measure\n",
    "\n",
    "\n",
    "#from imaris_ims_file_reader.ims import ims\n",
    "resolution_level = 0\n",
    "\n",
    "import argparse"
   ]
  },
  {
   "cell_type": "code",
   "execution_count": 17,
   "metadata": {},
   "outputs": [],
   "source": [
    "path='./boneblast/20230527EG/'\n",
    "model='./model_pth_norm'\n",
    "\n",
    "save_root=path+'res/'\n",
    "if not os.path.exists(save_root):\n",
    "    os.mkdir(save_root)\n",
    "\n",
    "def normlize(img):\n",
    "    mi=img.min()\n",
    "    ma=img.max()\n",
    "    return (img-mi)/(ma-mi)"
   ]
  },
  {
   "attachments": {},
   "cell_type": "markdown",
   "metadata": {},
   "source": [
    "# 选择设备，有cuda用cuda，没有就用cpu\n",
    "device = torch.device('cuda' if torch.cuda.is_available() else 'cpu')\n",
    "# 加载网络，图片单通道，分类为1。\n",
    "net = UNet(n_channels=1, n_classes=1,bilinear=False)\n",
    "# 将网络拷贝到deivce中\n",
    "net.to(device=device)\n",
    "# 加载模型参数\n",
    "checkpoint = torch.load(model,map_location=device)\n",
    "net.load_state_dict(checkpoint['net'])\n",
    "# 测试模式\n",
    "net.eval()\n",
    "# 读取所有图片路径\n",
    "Test_Data_path = path\n",
    "tests_path = glob.glob(Test_Data_path + '*.tiff')\n",
    "# 遍历所有图片\n",
    "for test_path in tests_path:\n",
    "    # 保存结果地址\n",
    "    save_res_path = test_path.replace('1_','res/1_').split('.tif')[0] + '_res.tif'\n",
    "    # 读取图片\n",
    "    img = io.imread(test_path)\n",
    "    img = normlize(img)\n",
    "    # 转为灰度图单通道\n",
    "# pytorch要求的格式（batch_size,c,w,h）\n",
    "    prepre = img.reshape(1, 1, img.shape[0], img.shape[1])\n",
    "# 转为tensor\n",
    "    prepre = prepre.astype(np.float32)\n",
    "    img_tensor = torch.from_numpy(prepre)\n",
    "    img_tensor = img_tensor.to(device=device, dtype=torch.float32)\n",
    "# 预测\n",
    "    pred = net(img_tensor)\n",
    "# 提取结果\n",
    "    pred = np.array(pred.data.cpu()[0])[0]\n",
    "# 处理结果\n",
    "    pred[pred >= 0.5] = 65535\n",
    "    pred[pred < 0.5] = 0\n",
    "# 保存图片\n",
    "    pred=pred.astype(np.uint16)\n",
    "    save=np.array(pred)\n",
    "    io.imsave(save_res_path, save)"
   ]
  },
  {
   "cell_type": "code",
   "execution_count": 18,
   "metadata": {},
   "outputs": [
    {
     "name": "stdout",
     "output_type": "stream",
     "text": [
      "24\n"
     ]
    }
   ],
   "source": [
    "# 选择设备，有cuda用cuda，没有就用cpu\n",
    "device = torch.device('cuda' if torch.cuda.is_available() else 'cpu')\n",
    "# 加载网络，图片单通道，分类为1。\n",
    "net = UNet(n_channels=1, n_classes=1,bilinear=False)\n",
    "# 将网络拷贝到deivce中\n",
    "net.to(device=device)\n",
    "# 加载模型参数\n",
    "checkpoint = torch.load(model,map_location=device)\n",
    "net.load_state_dict(checkpoint['net'])\n",
    "# 测试模式\n",
    "net.eval()\n",
    "# 读取所有图片路径\n",
    "Test_Data_path = path\n",
    "tests_path = glob.glob(Test_Data_path + 'sample*.tif')\n",
    "\n",
    "\n",
    "\n",
    "print(len(tests_path))"
   ]
  },
  {
   "cell_type": "code",
   "execution_count": 19,
   "metadata": {},
   "outputs": [
    {
     "name": "stdout",
     "output_type": "stream",
     "text": [
      "./boneblast/20230527EG/res/sample10_1.tif\n"
     ]
    },
    {
     "name": "stderr",
     "output_type": "stream",
     "text": [
      "C:\\Users\\PC\\AppData\\Local\\Temp\\ipykernel_20572\\2334507173.py:29: UserWarning: ./boneblast/20230527EG/res/sample10_1.tif is a low contrast image\n",
      "  io.imsave(save_res_path, save)\n"
     ]
    },
    {
     "name": "stdout",
     "output_type": "stream",
     "text": [
      "./boneblast/20230527EG/res/sample10_2.tif\n"
     ]
    },
    {
     "name": "stderr",
     "output_type": "stream",
     "text": [
      "C:\\Users\\PC\\AppData\\Local\\Temp\\ipykernel_20572\\2334507173.py:29: UserWarning: ./boneblast/20230527EG/res/sample10_2.tif is a low contrast image\n",
      "  io.imsave(save_res_path, save)\n"
     ]
    },
    {
     "name": "stdout",
     "output_type": "stream",
     "text": [
      "./boneblast/20230527EG/res/sample11_1.tif\n"
     ]
    },
    {
     "name": "stderr",
     "output_type": "stream",
     "text": [
      "C:\\Users\\PC\\AppData\\Local\\Temp\\ipykernel_20572\\2334507173.py:29: UserWarning: ./boneblast/20230527EG/res/sample11_1.tif is a low contrast image\n",
      "  io.imsave(save_res_path, save)\n"
     ]
    },
    {
     "name": "stdout",
     "output_type": "stream",
     "text": [
      "./boneblast/20230527EG/res/sample11_2.tif\n"
     ]
    },
    {
     "name": "stderr",
     "output_type": "stream",
     "text": [
      "C:\\Users\\PC\\AppData\\Local\\Temp\\ipykernel_20572\\2334507173.py:29: UserWarning: ./boneblast/20230527EG/res/sample11_2.tif is a low contrast image\n",
      "  io.imsave(save_res_path, save)\n"
     ]
    },
    {
     "name": "stdout",
     "output_type": "stream",
     "text": [
      "./boneblast/20230527EG/res/sample12_1.tif\n"
     ]
    },
    {
     "name": "stderr",
     "output_type": "stream",
     "text": [
      "C:\\Users\\PC\\AppData\\Local\\Temp\\ipykernel_20572\\2334507173.py:29: UserWarning: ./boneblast/20230527EG/res/sample12_1.tif is a low contrast image\n",
      "  io.imsave(save_res_path, save)\n"
     ]
    },
    {
     "name": "stdout",
     "output_type": "stream",
     "text": [
      "./boneblast/20230527EG/res/sample12_2.tif\n"
     ]
    },
    {
     "name": "stderr",
     "output_type": "stream",
     "text": [
      "C:\\Users\\PC\\AppData\\Local\\Temp\\ipykernel_20572\\2334507173.py:29: UserWarning: ./boneblast/20230527EG/res/sample12_2.tif is a low contrast image\n",
      "  io.imsave(save_res_path, save)\n"
     ]
    },
    {
     "name": "stdout",
     "output_type": "stream",
     "text": [
      "./boneblast/20230527EG/res/sample1_1.tif\n"
     ]
    },
    {
     "name": "stderr",
     "output_type": "stream",
     "text": [
      "C:\\Users\\PC\\AppData\\Local\\Temp\\ipykernel_20572\\2334507173.py:29: UserWarning: ./boneblast/20230527EG/res/sample1_1.tif is a low contrast image\n",
      "  io.imsave(save_res_path, save)\n"
     ]
    },
    {
     "name": "stdout",
     "output_type": "stream",
     "text": [
      "./boneblast/20230527EG/res/sample1_2.tif\n"
     ]
    },
    {
     "name": "stderr",
     "output_type": "stream",
     "text": [
      "C:\\Users\\PC\\AppData\\Local\\Temp\\ipykernel_20572\\2334507173.py:29: UserWarning: ./boneblast/20230527EG/res/sample1_2.tif is a low contrast image\n",
      "  io.imsave(save_res_path, save)\n"
     ]
    },
    {
     "name": "stdout",
     "output_type": "stream",
     "text": [
      "./boneblast/20230527EG/res/sample2_1.tif\n"
     ]
    },
    {
     "name": "stderr",
     "output_type": "stream",
     "text": [
      "C:\\Users\\PC\\AppData\\Local\\Temp\\ipykernel_20572\\2334507173.py:29: UserWarning: ./boneblast/20230527EG/res/sample2_1.tif is a low contrast image\n",
      "  io.imsave(save_res_path, save)\n"
     ]
    },
    {
     "name": "stdout",
     "output_type": "stream",
     "text": [
      "./boneblast/20230527EG/res/sample2_2.tif\n"
     ]
    },
    {
     "name": "stderr",
     "output_type": "stream",
     "text": [
      "C:\\Users\\PC\\AppData\\Local\\Temp\\ipykernel_20572\\2334507173.py:29: UserWarning: ./boneblast/20230527EG/res/sample2_2.tif is a low contrast image\n",
      "  io.imsave(save_res_path, save)\n"
     ]
    },
    {
     "name": "stdout",
     "output_type": "stream",
     "text": [
      "./boneblast/20230527EG/res/sample3_1.tif\n"
     ]
    },
    {
     "name": "stderr",
     "output_type": "stream",
     "text": [
      "C:\\Users\\PC\\AppData\\Local\\Temp\\ipykernel_20572\\2334507173.py:29: UserWarning: ./boneblast/20230527EG/res/sample3_1.tif is a low contrast image\n",
      "  io.imsave(save_res_path, save)\n"
     ]
    },
    {
     "name": "stdout",
     "output_type": "stream",
     "text": [
      "./boneblast/20230527EG/res/sample3_2.tif\n"
     ]
    },
    {
     "name": "stderr",
     "output_type": "stream",
     "text": [
      "C:\\Users\\PC\\AppData\\Local\\Temp\\ipykernel_20572\\2334507173.py:29: UserWarning: ./boneblast/20230527EG/res/sample3_2.tif is a low contrast image\n",
      "  io.imsave(save_res_path, save)\n"
     ]
    },
    {
     "name": "stdout",
     "output_type": "stream",
     "text": [
      "./boneblast/20230527EG/res/sample4_1.tif\n"
     ]
    },
    {
     "name": "stderr",
     "output_type": "stream",
     "text": [
      "C:\\Users\\PC\\AppData\\Local\\Temp\\ipykernel_20572\\2334507173.py:29: UserWarning: ./boneblast/20230527EG/res/sample4_1.tif is a low contrast image\n",
      "  io.imsave(save_res_path, save)\n"
     ]
    },
    {
     "name": "stdout",
     "output_type": "stream",
     "text": [
      "./boneblast/20230527EG/res/sample4_2.tif\n"
     ]
    },
    {
     "name": "stderr",
     "output_type": "stream",
     "text": [
      "C:\\Users\\PC\\AppData\\Local\\Temp\\ipykernel_20572\\2334507173.py:29: UserWarning: ./boneblast/20230527EG/res/sample4_2.tif is a low contrast image\n",
      "  io.imsave(save_res_path, save)\n"
     ]
    },
    {
     "name": "stdout",
     "output_type": "stream",
     "text": [
      "./boneblast/20230527EG/res/sample5_1.tif\n"
     ]
    },
    {
     "name": "stderr",
     "output_type": "stream",
     "text": [
      "C:\\Users\\PC\\AppData\\Local\\Temp\\ipykernel_20572\\2334507173.py:29: UserWarning: ./boneblast/20230527EG/res/sample5_1.tif is a low contrast image\n",
      "  io.imsave(save_res_path, save)\n"
     ]
    },
    {
     "name": "stdout",
     "output_type": "stream",
     "text": [
      "./boneblast/20230527EG/res/sample5_2.tif\n"
     ]
    },
    {
     "name": "stderr",
     "output_type": "stream",
     "text": [
      "C:\\Users\\PC\\AppData\\Local\\Temp\\ipykernel_20572\\2334507173.py:29: UserWarning: ./boneblast/20230527EG/res/sample5_2.tif is a low contrast image\n",
      "  io.imsave(save_res_path, save)\n"
     ]
    },
    {
     "name": "stdout",
     "output_type": "stream",
     "text": [
      "./boneblast/20230527EG/res/sample6_1.tif\n"
     ]
    },
    {
     "name": "stderr",
     "output_type": "stream",
     "text": [
      "C:\\Users\\PC\\AppData\\Local\\Temp\\ipykernel_20572\\2334507173.py:29: UserWarning: ./boneblast/20230527EG/res/sample6_1.tif is a low contrast image\n",
      "  io.imsave(save_res_path, save)\n"
     ]
    },
    {
     "name": "stdout",
     "output_type": "stream",
     "text": [
      "./boneblast/20230527EG/res/sample6_2.tif\n"
     ]
    },
    {
     "name": "stderr",
     "output_type": "stream",
     "text": [
      "C:\\Users\\PC\\AppData\\Local\\Temp\\ipykernel_20572\\2334507173.py:29: UserWarning: ./boneblast/20230527EG/res/sample6_2.tif is a low contrast image\n",
      "  io.imsave(save_res_path, save)\n"
     ]
    },
    {
     "name": "stdout",
     "output_type": "stream",
     "text": [
      "./boneblast/20230527EG/res/sample7_1.tif\n"
     ]
    },
    {
     "name": "stderr",
     "output_type": "stream",
     "text": [
      "C:\\Users\\PC\\AppData\\Local\\Temp\\ipykernel_20572\\2334507173.py:29: UserWarning: ./boneblast/20230527EG/res/sample7_1.tif is a low contrast image\n",
      "  io.imsave(save_res_path, save)\n"
     ]
    },
    {
     "name": "stdout",
     "output_type": "stream",
     "text": [
      "./boneblast/20230527EG/res/sample7_2.tif\n"
     ]
    },
    {
     "name": "stderr",
     "output_type": "stream",
     "text": [
      "C:\\Users\\PC\\AppData\\Local\\Temp\\ipykernel_20572\\2334507173.py:29: UserWarning: ./boneblast/20230527EG/res/sample7_2.tif is a low contrast image\n",
      "  io.imsave(save_res_path, save)\n"
     ]
    },
    {
     "name": "stdout",
     "output_type": "stream",
     "text": [
      "./boneblast/20230527EG/res/sample8_1.tif\n"
     ]
    },
    {
     "name": "stderr",
     "output_type": "stream",
     "text": [
      "C:\\Users\\PC\\AppData\\Local\\Temp\\ipykernel_20572\\2334507173.py:29: UserWarning: ./boneblast/20230527EG/res/sample8_1.tif is a low contrast image\n",
      "  io.imsave(save_res_path, save)\n"
     ]
    },
    {
     "name": "stdout",
     "output_type": "stream",
     "text": [
      "./boneblast/20230527EG/res/sample8_2.tif\n"
     ]
    },
    {
     "name": "stderr",
     "output_type": "stream",
     "text": [
      "C:\\Users\\PC\\AppData\\Local\\Temp\\ipykernel_20572\\2334507173.py:29: UserWarning: ./boneblast/20230527EG/res/sample8_2.tif is a low contrast image\n",
      "  io.imsave(save_res_path, save)\n"
     ]
    },
    {
     "name": "stdout",
     "output_type": "stream",
     "text": [
      "./boneblast/20230527EG/res/sample9_1.tif\n"
     ]
    },
    {
     "name": "stderr",
     "output_type": "stream",
     "text": [
      "C:\\Users\\PC\\AppData\\Local\\Temp\\ipykernel_20572\\2334507173.py:29: UserWarning: ./boneblast/20230527EG/res/sample9_1.tif is a low contrast image\n",
      "  io.imsave(save_res_path, save)\n"
     ]
    },
    {
     "name": "stdout",
     "output_type": "stream",
     "text": [
      "./boneblast/20230527EG/res/sample9_2.tif\n"
     ]
    },
    {
     "name": "stderr",
     "output_type": "stream",
     "text": [
      "C:\\Users\\PC\\AppData\\Local\\Temp\\ipykernel_20572\\2334507173.py:29: UserWarning: ./boneblast/20230527EG/res/sample9_2.tif is a low contrast image\n",
      "  io.imsave(save_res_path, save)\n"
     ]
    }
   ],
   "source": [
    "# 遍历所有图片\n",
    "for test_path in tests_path:\n",
    "    # 保存结果地址\n",
    "    save_res_path = save_root+test_path.split('\\\\')[-1]\n",
    "    print(save_res_path)\n",
    "    # 读取图片\n",
    "    img = io.imread(test_path)\n",
    "    # 转为灰度图单通道\n",
    "    out=[]\n",
    "    for i in range(img.shape[0]):\n",
    "    # pytorch要求的格式（batch_size,c,w,h）\n",
    "        prepre = img[i].reshape(1, 1, img.shape[1], img.shape[2])\n",
    "    # 转为tensor\n",
    "        prepre = prepre.astype(np.float32)\n",
    "        prepre = normlize(prepre)\n",
    "        img_tensor = torch.from_numpy(prepre)\n",
    "        img_tensor = img_tensor.to(device=device, dtype=torch.float32)\n",
    "    # 预测\n",
    "        pred = net(img_tensor)\n",
    "    # 提取结果\n",
    "        pred = np.array(pred.data.cpu()[0])[0]\n",
    "    # 处理结果\n",
    "        pred[pred >= 0.5] = 65535\n",
    "        pred[pred < 0.5] = 0\n",
    "    # 保存图片\n",
    "        pred=pred.astype(np.uint16)\n",
    "        out.append(pred)\n",
    "    save=np.array(out)\n",
    "    io.imsave(save_res_path, save)"
   ]
  },
  {
   "cell_type": "code",
   "execution_count": 20,
   "metadata": {},
   "outputs": [
    {
     "name": "stdout",
     "output_type": "stream",
     "text": [
      "sample1_1 187\n",
      "sample1_2 122\n",
      "sample2_1 149\n",
      "sample2_2 135\n",
      "sample3_1 246\n",
      "sample3_2 128\n",
      "sample4_1 160\n",
      "sample4_2 131\n",
      "185.5 129.0\n",
      "sample5_1 222\n",
      "sample5_2 154\n",
      "sample6_1 202\n",
      "sample6_2 151\n",
      "sample7_1 177\n",
      "sample7_2 123\n",
      "sample8_1 233\n",
      "sample8_2 211\n",
      "208.5 159.75\n",
      "sample9_1 409\n",
      "sample9_2 357\n",
      "sample10_1 342\n",
      "sample10_2 384\n",
      "sample11_1 431\n",
      "sample11_2 370\n",
      "sample12_1 633\n",
      "sample12_2 321\n",
      "453.75 358.0\n",
      "[[0.0, 0.0], [23.0, 30.75], [268.25, 229.0]]\n"
     ]
    }
   ],
   "source": [
    "root3=save_root+'sample'\n",
    "dots=[]\n",
    "for i in range(len(tests_path)//2):\n",
    "    if i%4==0:\n",
    "        average1=0\n",
    "        average2=0\n",
    "    for j in range(2):\n",
    "        img3=io.imread(root3+str(i+1)+'_'+str(j+1)+'.tif')\n",
    "        img3=mp.erosion(img3,footprint=mp.cube(2))\n",
    "        img4, num=measure.label(img3,background=0,return_num=True, connectivity=1)\n",
    "        print('sample'+str(i+1)+'_'+str(j+1),num)\n",
    "        if j==0:\n",
    "            average1+=num/4\n",
    "        else:\n",
    "            average2+=num/4\n",
    "    if i%4==3:\n",
    "        dots.append([average1,average2])\n",
    "        print(average1,average2)\n",
    "\n",
    "dots_adj=[]\n",
    "for i in range(len(dots)):\n",
    "    dots_adj.append([dots[i][0]-dots[0][0],dots[i][1]-dots[0][1]])\n",
    "\n",
    "print(dots_adj)"
   ]
  }
 ],
 "metadata": {
  "kernelspec": {
   "display_name": "unet39",
   "language": "python",
   "name": "python3"
  },
  "language_info": {
   "codemirror_mode": {
    "name": "ipython",
    "version": 3
   },
   "file_extension": ".py",
   "mimetype": "text/x-python",
   "name": "python",
   "nbconvert_exporter": "python",
   "pygments_lexer": "ipython3",
   "version": "3.9.16"
  },
  "orig_nbformat": 4
 },
 "nbformat": 4,
 "nbformat_minor": 2
}
